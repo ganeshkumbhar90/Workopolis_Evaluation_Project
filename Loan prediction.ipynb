{
 "cells": [
  {
   "cell_type": "markdown",
   "id": "ad728b2e",
   "metadata": {},
   "source": [
    "### Import necessary liabraries"
   ]
  },
  {
   "cell_type": "code",
   "execution_count": 1,
   "id": "25ddce52",
   "metadata": {},
   "outputs": [],
   "source": [
    "import numpy as np\n",
    "import pandas as pd \n",
    "import matplotlib.pyplot as plt\n",
    "import seaborn as sns \n",
    "import warnings\n",
    "warnings.filterwarnings('ignore')"
   ]
  },
  {
   "cell_type": "markdown",
   "id": "57b1596c",
   "metadata": {},
   "source": [
    "### Load the data set"
   ]
  },
  {
   "cell_type": "code",
   "execution_count": 2,
   "id": "e0df747c",
   "metadata": {},
   "outputs": [
    {
     "data": {
      "text/html": [
       "<div>\n",
       "<style scoped>\n",
       "    .dataframe tbody tr th:only-of-type {\n",
       "        vertical-align: middle;\n",
       "    }\n",
       "\n",
       "    .dataframe tbody tr th {\n",
       "        vertical-align: top;\n",
       "    }\n",
       "\n",
       "    .dataframe thead th {\n",
       "        text-align: right;\n",
       "    }\n",
       "</style>\n",
       "<table border=\"1\" class=\"dataframe\">\n",
       "  <thead>\n",
       "    <tr style=\"text-align: right;\">\n",
       "      <th></th>\n",
       "      <th>Loan_ID</th>\n",
       "      <th>Gender</th>\n",
       "      <th>Married</th>\n",
       "      <th>Dependents</th>\n",
       "      <th>Education</th>\n",
       "      <th>Self_Employed</th>\n",
       "      <th>ApplicantIncome</th>\n",
       "      <th>CoapplicantIncome</th>\n",
       "      <th>LoanAmount</th>\n",
       "      <th>Loan_Amount_Term</th>\n",
       "      <th>Credit_History</th>\n",
       "      <th>Property_Area</th>\n",
       "      <th>Loan_Status</th>\n",
       "    </tr>\n",
       "  </thead>\n",
       "  <tbody>\n",
       "    <tr>\n",
       "      <th>0</th>\n",
       "      <td>LP001002</td>\n",
       "      <td>Male</td>\n",
       "      <td>No</td>\n",
       "      <td>0</td>\n",
       "      <td>Graduate</td>\n",
       "      <td>No</td>\n",
       "      <td>5849</td>\n",
       "      <td>0.0</td>\n",
       "      <td>NaN</td>\n",
       "      <td>360.0</td>\n",
       "      <td>1.0</td>\n",
       "      <td>Urban</td>\n",
       "      <td>Y</td>\n",
       "    </tr>\n",
       "    <tr>\n",
       "      <th>1</th>\n",
       "      <td>LP001003</td>\n",
       "      <td>Male</td>\n",
       "      <td>Yes</td>\n",
       "      <td>1</td>\n",
       "      <td>Graduate</td>\n",
       "      <td>No</td>\n",
       "      <td>4583</td>\n",
       "      <td>1508.0</td>\n",
       "      <td>128.0</td>\n",
       "      <td>360.0</td>\n",
       "      <td>1.0</td>\n",
       "      <td>Rural</td>\n",
       "      <td>N</td>\n",
       "    </tr>\n",
       "    <tr>\n",
       "      <th>2</th>\n",
       "      <td>LP001005</td>\n",
       "      <td>Male</td>\n",
       "      <td>Yes</td>\n",
       "      <td>0</td>\n",
       "      <td>Graduate</td>\n",
       "      <td>Yes</td>\n",
       "      <td>3000</td>\n",
       "      <td>0.0</td>\n",
       "      <td>66.0</td>\n",
       "      <td>360.0</td>\n",
       "      <td>1.0</td>\n",
       "      <td>Urban</td>\n",
       "      <td>Y</td>\n",
       "    </tr>\n",
       "    <tr>\n",
       "      <th>3</th>\n",
       "      <td>LP001006</td>\n",
       "      <td>Male</td>\n",
       "      <td>Yes</td>\n",
       "      <td>0</td>\n",
       "      <td>Not Graduate</td>\n",
       "      <td>No</td>\n",
       "      <td>2583</td>\n",
       "      <td>2358.0</td>\n",
       "      <td>120.0</td>\n",
       "      <td>360.0</td>\n",
       "      <td>1.0</td>\n",
       "      <td>Urban</td>\n",
       "      <td>Y</td>\n",
       "    </tr>\n",
       "    <tr>\n",
       "      <th>4</th>\n",
       "      <td>LP001008</td>\n",
       "      <td>Male</td>\n",
       "      <td>No</td>\n",
       "      <td>0</td>\n",
       "      <td>Graduate</td>\n",
       "      <td>No</td>\n",
       "      <td>6000</td>\n",
       "      <td>0.0</td>\n",
       "      <td>141.0</td>\n",
       "      <td>360.0</td>\n",
       "      <td>1.0</td>\n",
       "      <td>Urban</td>\n",
       "      <td>Y</td>\n",
       "    </tr>\n",
       "    <tr>\n",
       "      <th>...</th>\n",
       "      <td>...</td>\n",
       "      <td>...</td>\n",
       "      <td>...</td>\n",
       "      <td>...</td>\n",
       "      <td>...</td>\n",
       "      <td>...</td>\n",
       "      <td>...</td>\n",
       "      <td>...</td>\n",
       "      <td>...</td>\n",
       "      <td>...</td>\n",
       "      <td>...</td>\n",
       "      <td>...</td>\n",
       "      <td>...</td>\n",
       "    </tr>\n",
       "    <tr>\n",
       "      <th>609</th>\n",
       "      <td>LP002978</td>\n",
       "      <td>Female</td>\n",
       "      <td>No</td>\n",
       "      <td>0</td>\n",
       "      <td>Graduate</td>\n",
       "      <td>No</td>\n",
       "      <td>2900</td>\n",
       "      <td>0.0</td>\n",
       "      <td>71.0</td>\n",
       "      <td>360.0</td>\n",
       "      <td>1.0</td>\n",
       "      <td>Rural</td>\n",
       "      <td>Y</td>\n",
       "    </tr>\n",
       "    <tr>\n",
       "      <th>610</th>\n",
       "      <td>LP002979</td>\n",
       "      <td>Male</td>\n",
       "      <td>Yes</td>\n",
       "      <td>3+</td>\n",
       "      <td>Graduate</td>\n",
       "      <td>No</td>\n",
       "      <td>4106</td>\n",
       "      <td>0.0</td>\n",
       "      <td>40.0</td>\n",
       "      <td>180.0</td>\n",
       "      <td>1.0</td>\n",
       "      <td>Rural</td>\n",
       "      <td>Y</td>\n",
       "    </tr>\n",
       "    <tr>\n",
       "      <th>611</th>\n",
       "      <td>LP002983</td>\n",
       "      <td>Male</td>\n",
       "      <td>Yes</td>\n",
       "      <td>1</td>\n",
       "      <td>Graduate</td>\n",
       "      <td>No</td>\n",
       "      <td>8072</td>\n",
       "      <td>240.0</td>\n",
       "      <td>253.0</td>\n",
       "      <td>360.0</td>\n",
       "      <td>1.0</td>\n",
       "      <td>Urban</td>\n",
       "      <td>Y</td>\n",
       "    </tr>\n",
       "    <tr>\n",
       "      <th>612</th>\n",
       "      <td>LP002984</td>\n",
       "      <td>Male</td>\n",
       "      <td>Yes</td>\n",
       "      <td>2</td>\n",
       "      <td>Graduate</td>\n",
       "      <td>No</td>\n",
       "      <td>7583</td>\n",
       "      <td>0.0</td>\n",
       "      <td>187.0</td>\n",
       "      <td>360.0</td>\n",
       "      <td>1.0</td>\n",
       "      <td>Urban</td>\n",
       "      <td>Y</td>\n",
       "    </tr>\n",
       "    <tr>\n",
       "      <th>613</th>\n",
       "      <td>LP002990</td>\n",
       "      <td>Female</td>\n",
       "      <td>No</td>\n",
       "      <td>0</td>\n",
       "      <td>Graduate</td>\n",
       "      <td>Yes</td>\n",
       "      <td>4583</td>\n",
       "      <td>0.0</td>\n",
       "      <td>133.0</td>\n",
       "      <td>360.0</td>\n",
       "      <td>0.0</td>\n",
       "      <td>Semiurban</td>\n",
       "      <td>N</td>\n",
       "    </tr>\n",
       "  </tbody>\n",
       "</table>\n",
       "<p>614 rows × 13 columns</p>\n",
       "</div>"
      ],
      "text/plain": [
       "      Loan_ID  Gender Married Dependents     Education Self_Employed  \\\n",
       "0    LP001002    Male      No          0      Graduate            No   \n",
       "1    LP001003    Male     Yes          1      Graduate            No   \n",
       "2    LP001005    Male     Yes          0      Graduate           Yes   \n",
       "3    LP001006    Male     Yes          0  Not Graduate            No   \n",
       "4    LP001008    Male      No          0      Graduate            No   \n",
       "..        ...     ...     ...        ...           ...           ...   \n",
       "609  LP002978  Female      No          0      Graduate            No   \n",
       "610  LP002979    Male     Yes         3+      Graduate            No   \n",
       "611  LP002983    Male     Yes          1      Graduate            No   \n",
       "612  LP002984    Male     Yes          2      Graduate            No   \n",
       "613  LP002990  Female      No          0      Graduate           Yes   \n",
       "\n",
       "     ApplicantIncome  CoapplicantIncome  LoanAmount  Loan_Amount_Term  \\\n",
       "0               5849                0.0         NaN             360.0   \n",
       "1               4583             1508.0       128.0             360.0   \n",
       "2               3000                0.0        66.0             360.0   \n",
       "3               2583             2358.0       120.0             360.0   \n",
       "4               6000                0.0       141.0             360.0   \n",
       "..               ...                ...         ...               ...   \n",
       "609             2900                0.0        71.0             360.0   \n",
       "610             4106                0.0        40.0             180.0   \n",
       "611             8072              240.0       253.0             360.0   \n",
       "612             7583                0.0       187.0             360.0   \n",
       "613             4583                0.0       133.0             360.0   \n",
       "\n",
       "     Credit_History Property_Area Loan_Status  \n",
       "0               1.0         Urban           Y  \n",
       "1               1.0         Rural           N  \n",
       "2               1.0         Urban           Y  \n",
       "3               1.0         Urban           Y  \n",
       "4               1.0         Urban           Y  \n",
       "..              ...           ...         ...  \n",
       "609             1.0         Rural           Y  \n",
       "610             1.0         Rural           Y  \n",
       "611             1.0         Urban           Y  \n",
       "612             1.0         Urban           Y  \n",
       "613             0.0     Semiurban           N  \n",
       "\n",
       "[614 rows x 13 columns]"
      ]
     },
     "execution_count": 2,
     "metadata": {},
     "output_type": "execute_result"
    }
   ],
   "source": [
    "df=pd.read_csv(\"D:\\Datatrained projects\\data\\Evaluation data\\loan_prediction.csv\")\n",
    "df"
   ]
  },
  {
   "cell_type": "code",
   "execution_count": 3,
   "id": "fbe1cd45",
   "metadata": {},
   "outputs": [
    {
     "data": {
      "text/plain": [
       "(614, 13)"
      ]
     },
     "execution_count": 3,
     "metadata": {},
     "output_type": "execute_result"
    }
   ],
   "source": [
    "# checking shape of dataset\n",
    "df.shape"
   ]
  },
  {
   "cell_type": "code",
   "execution_count": 4,
   "id": "f34f2d53",
   "metadata": {},
   "outputs": [
    {
     "data": {
      "text/plain": [
       "Index(['Loan_ID', 'Gender', 'Married', 'Dependents', 'Education',\n",
       "       'Self_Employed', 'ApplicantIncome', 'CoapplicantIncome', 'LoanAmount',\n",
       "       'Loan_Amount_Term', 'Credit_History', 'Property_Area', 'Loan_Status'],\n",
       "      dtype='object')"
      ]
     },
     "execution_count": 4,
     "metadata": {},
     "output_type": "execute_result"
    }
   ],
   "source": [
    "# checking columns of dataset\n",
    "df.columns"
   ]
  },
  {
   "cell_type": "code",
   "execution_count": 5,
   "id": "35044e15",
   "metadata": {},
   "outputs": [
    {
     "name": "stdout",
     "output_type": "stream",
     "text": [
      "<class 'pandas.core.frame.DataFrame'>\n",
      "RangeIndex: 614 entries, 0 to 613\n",
      "Data columns (total 13 columns):\n",
      " #   Column             Non-Null Count  Dtype  \n",
      "---  ------             --------------  -----  \n",
      " 0   Loan_ID            614 non-null    object \n",
      " 1   Gender             601 non-null    object \n",
      " 2   Married            611 non-null    object \n",
      " 3   Dependents         599 non-null    object \n",
      " 4   Education          614 non-null    object \n",
      " 5   Self_Employed      582 non-null    object \n",
      " 6   ApplicantIncome    614 non-null    int64  \n",
      " 7   CoapplicantIncome  614 non-null    float64\n",
      " 8   LoanAmount         592 non-null    float64\n",
      " 9   Loan_Amount_Term   600 non-null    float64\n",
      " 10  Credit_History     564 non-null    float64\n",
      " 11  Property_Area      614 non-null    object \n",
      " 12  Loan_Status        614 non-null    object \n",
      "dtypes: float64(4), int64(1), object(8)\n",
      "memory usage: 62.5+ KB\n"
     ]
    }
   ],
   "source": [
    "# checking info about data\n",
    "df.info()"
   ]
  },
  {
   "cell_type": "code",
   "execution_count": 6,
   "id": "491e1bc5",
   "metadata": {},
   "outputs": [
    {
     "data": {
      "text/html": [
       "<div>\n",
       "<style scoped>\n",
       "    .dataframe tbody tr th:only-of-type {\n",
       "        vertical-align: middle;\n",
       "    }\n",
       "\n",
       "    .dataframe tbody tr th {\n",
       "        vertical-align: top;\n",
       "    }\n",
       "\n",
       "    .dataframe thead th {\n",
       "        text-align: right;\n",
       "    }\n",
       "</style>\n",
       "<table border=\"1\" class=\"dataframe\">\n",
       "  <thead>\n",
       "    <tr style=\"text-align: right;\">\n",
       "      <th></th>\n",
       "      <th>ApplicantIncome</th>\n",
       "      <th>CoapplicantIncome</th>\n",
       "      <th>LoanAmount</th>\n",
       "      <th>Loan_Amount_Term</th>\n",
       "      <th>Credit_History</th>\n",
       "    </tr>\n",
       "  </thead>\n",
       "  <tbody>\n",
       "    <tr>\n",
       "      <th>count</th>\n",
       "      <td>614.000000</td>\n",
       "      <td>614.000000</td>\n",
       "      <td>592.000000</td>\n",
       "      <td>600.00000</td>\n",
       "      <td>564.000000</td>\n",
       "    </tr>\n",
       "    <tr>\n",
       "      <th>mean</th>\n",
       "      <td>5403.459283</td>\n",
       "      <td>1621.245798</td>\n",
       "      <td>146.412162</td>\n",
       "      <td>342.00000</td>\n",
       "      <td>0.842199</td>\n",
       "    </tr>\n",
       "    <tr>\n",
       "      <th>std</th>\n",
       "      <td>6109.041673</td>\n",
       "      <td>2926.248369</td>\n",
       "      <td>85.587325</td>\n",
       "      <td>65.12041</td>\n",
       "      <td>0.364878</td>\n",
       "    </tr>\n",
       "    <tr>\n",
       "      <th>min</th>\n",
       "      <td>150.000000</td>\n",
       "      <td>0.000000</td>\n",
       "      <td>9.000000</td>\n",
       "      <td>12.00000</td>\n",
       "      <td>0.000000</td>\n",
       "    </tr>\n",
       "    <tr>\n",
       "      <th>25%</th>\n",
       "      <td>2877.500000</td>\n",
       "      <td>0.000000</td>\n",
       "      <td>100.000000</td>\n",
       "      <td>360.00000</td>\n",
       "      <td>1.000000</td>\n",
       "    </tr>\n",
       "    <tr>\n",
       "      <th>50%</th>\n",
       "      <td>3812.500000</td>\n",
       "      <td>1188.500000</td>\n",
       "      <td>128.000000</td>\n",
       "      <td>360.00000</td>\n",
       "      <td>1.000000</td>\n",
       "    </tr>\n",
       "    <tr>\n",
       "      <th>75%</th>\n",
       "      <td>5795.000000</td>\n",
       "      <td>2297.250000</td>\n",
       "      <td>168.000000</td>\n",
       "      <td>360.00000</td>\n",
       "      <td>1.000000</td>\n",
       "    </tr>\n",
       "    <tr>\n",
       "      <th>max</th>\n",
       "      <td>81000.000000</td>\n",
       "      <td>41667.000000</td>\n",
       "      <td>700.000000</td>\n",
       "      <td>480.00000</td>\n",
       "      <td>1.000000</td>\n",
       "    </tr>\n",
       "  </tbody>\n",
       "</table>\n",
       "</div>"
      ],
      "text/plain": [
       "       ApplicantIncome  CoapplicantIncome  LoanAmount  Loan_Amount_Term  \\\n",
       "count       614.000000         614.000000  592.000000         600.00000   \n",
       "mean       5403.459283        1621.245798  146.412162         342.00000   \n",
       "std        6109.041673        2926.248369   85.587325          65.12041   \n",
       "min         150.000000           0.000000    9.000000          12.00000   \n",
       "25%        2877.500000           0.000000  100.000000         360.00000   \n",
       "50%        3812.500000        1188.500000  128.000000         360.00000   \n",
       "75%        5795.000000        2297.250000  168.000000         360.00000   \n",
       "max       81000.000000       41667.000000  700.000000         480.00000   \n",
       "\n",
       "       Credit_History  \n",
       "count      564.000000  \n",
       "mean         0.842199  \n",
       "std          0.364878  \n",
       "min          0.000000  \n",
       "25%          1.000000  \n",
       "50%          1.000000  \n",
       "75%          1.000000  \n",
       "max          1.000000  "
      ]
     },
     "execution_count": 6,
     "metadata": {},
     "output_type": "execute_result"
    }
   ],
   "source": [
    "# statistical summary of dataset\n",
    "df.describe()"
   ]
  },
  {
   "cell_type": "markdown",
   "id": "deef6d4d",
   "metadata": {},
   "source": [
    "### Observations from data:\n",
    "1. Data have both continuous and classification data.\n",
    "2. there are null values present in data.\n",
    "3. columns coapplication income has min and 25% data as zero and there is variation in 50,70,max data indicates outliers.\n",
    "4. column loan amount term is in days.\n",
    "5. column applicant income has high variation in min,25,50,75 quantiles."
   ]
  },
  {
   "cell_type": "markdown",
   "id": "317a2ab2",
   "metadata": {},
   "source": [
    "### Check null values"
   ]
  },
  {
   "cell_type": "code",
   "execution_count": 7,
   "id": "80d48c52",
   "metadata": {},
   "outputs": [
    {
     "data": {
      "text/plain": [
       "Loan_ID               0\n",
       "Gender               13\n",
       "Married               3\n",
       "Dependents           15\n",
       "Education             0\n",
       "Self_Employed        32\n",
       "ApplicantIncome       0\n",
       "CoapplicantIncome     0\n",
       "LoanAmount           22\n",
       "Loan_Amount_Term     14\n",
       "Credit_History       50\n",
       "Property_Area         0\n",
       "Loan_Status           0\n",
       "dtype: int64"
      ]
     },
     "execution_count": 7,
     "metadata": {},
     "output_type": "execute_result"
    }
   ],
   "source": [
    "df.isnull().sum()"
   ]
  },
  {
   "cell_type": "code",
   "execution_count": 8,
   "id": "a892152d",
   "metadata": {},
   "outputs": [
    {
     "data": {
      "text/plain": [
       "149"
      ]
     },
     "execution_count": 8,
     "metadata": {},
     "output_type": "execute_result"
    }
   ],
   "source": [
    "# total no of null values\n",
    "df.isnull().sum().sum()"
   ]
  },
  {
   "cell_type": "code",
   "execution_count": 9,
   "id": "8eeeaf29",
   "metadata": {},
   "outputs": [],
   "source": [
    "# replacing '0'in coapplicant income with mean\n",
    "df['CoapplicantIncome']=df['CoapplicantIncome'].replace(0,df['CoapplicantIncome'].mean())"
   ]
  },
  {
   "cell_type": "code",
   "execution_count": 10,
   "id": "bbcba73a",
   "metadata": {},
   "outputs": [],
   "source": [
    "# Filling null values\n",
    "df['LoanAmount']=df['LoanAmount'].fillna(df['LoanAmount'].mean())\n",
    "df['Loan_Amount_Term']=df['Loan_Amount_Term'].fillna(df['Loan_Amount_Term'].mean())\n",
    "df['Credit_History']=df['Credit_History'].fillna(df['Credit_History'].mode()[0])\n",
    "df['Dependents']=df['Dependents'].fillna(df['Dependents'].mode()[0])\n",
    "df['Married']=df['Married'].fillna(df['Married'].mode()[0])\n",
    "df['Self_Employed']=df['Self_Employed'].fillna(df['Self_Employed'].mode()[0])"
   ]
  },
  {
   "cell_type": "code",
   "execution_count": 11,
   "id": "e10f2519",
   "metadata": {},
   "outputs": [
    {
     "data": {
      "text/plain": [
       "Loan_ID               0\n",
       "Gender               13\n",
       "Married               0\n",
       "Dependents            0\n",
       "Education             0\n",
       "Self_Employed         0\n",
       "ApplicantIncome       0\n",
       "CoapplicantIncome     0\n",
       "LoanAmount            0\n",
       "Loan_Amount_Term      0\n",
       "Credit_History        0\n",
       "Property_Area         0\n",
       "Loan_Status           0\n",
       "dtype: int64"
      ]
     },
     "execution_count": 11,
     "metadata": {},
     "output_type": "execute_result"
    }
   ],
   "source": [
    "df.isnull().sum()"
   ]
  },
  {
   "cell_type": "code",
   "execution_count": 12,
   "id": "a725e7ab",
   "metadata": {},
   "outputs": [],
   "source": [
    "# dropping nans in gender column\n",
    "df.dropna(inplace=True)"
   ]
  },
  {
   "cell_type": "code",
   "execution_count": 13,
   "id": "4308d422",
   "metadata": {},
   "outputs": [
    {
     "data": {
      "text/plain": [
       "Loan_ID              0\n",
       "Gender               0\n",
       "Married              0\n",
       "Dependents           0\n",
       "Education            0\n",
       "Self_Employed        0\n",
       "ApplicantIncome      0\n",
       "CoapplicantIncome    0\n",
       "LoanAmount           0\n",
       "Loan_Amount_Term     0\n",
       "Credit_History       0\n",
       "Property_Area        0\n",
       "Loan_Status          0\n",
       "dtype: int64"
      ]
     },
     "execution_count": 13,
     "metadata": {},
     "output_type": "execute_result"
    }
   ],
   "source": [
    "# Checking null values\n",
    "df.isnull().sum()"
   ]
  },
  {
   "cell_type": "markdown",
   "id": "315d8747",
   "metadata": {},
   "source": [
    "From above we can say that all nans are removed."
   ]
  },
  {
   "cell_type": "code",
   "execution_count": 14,
   "id": "48778052",
   "metadata": {},
   "outputs": [
    {
     "data": {
      "text/html": [
       "<div>\n",
       "<style scoped>\n",
       "    .dataframe tbody tr th:only-of-type {\n",
       "        vertical-align: middle;\n",
       "    }\n",
       "\n",
       "    .dataframe tbody tr th {\n",
       "        vertical-align: top;\n",
       "    }\n",
       "\n",
       "    .dataframe thead th {\n",
       "        text-align: right;\n",
       "    }\n",
       "</style>\n",
       "<table border=\"1\" class=\"dataframe\">\n",
       "  <thead>\n",
       "    <tr style=\"text-align: right;\">\n",
       "      <th></th>\n",
       "      <th>index</th>\n",
       "      <th>Loan_ID</th>\n",
       "      <th>Gender</th>\n",
       "      <th>Married</th>\n",
       "      <th>Dependents</th>\n",
       "      <th>Education</th>\n",
       "      <th>Self_Employed</th>\n",
       "      <th>ApplicantIncome</th>\n",
       "      <th>CoapplicantIncome</th>\n",
       "      <th>LoanAmount</th>\n",
       "      <th>Loan_Amount_Term</th>\n",
       "      <th>Credit_History</th>\n",
       "      <th>Property_Area</th>\n",
       "      <th>Loan_Status</th>\n",
       "    </tr>\n",
       "  </thead>\n",
       "  <tbody>\n",
       "    <tr>\n",
       "      <th>0</th>\n",
       "      <td>0</td>\n",
       "      <td>LP001002</td>\n",
       "      <td>Male</td>\n",
       "      <td>No</td>\n",
       "      <td>0</td>\n",
       "      <td>Graduate</td>\n",
       "      <td>No</td>\n",
       "      <td>5849</td>\n",
       "      <td>1621.245798</td>\n",
       "      <td>146.412162</td>\n",
       "      <td>360.0</td>\n",
       "      <td>1.0</td>\n",
       "      <td>Urban</td>\n",
       "      <td>Y</td>\n",
       "    </tr>\n",
       "    <tr>\n",
       "      <th>1</th>\n",
       "      <td>1</td>\n",
       "      <td>LP001003</td>\n",
       "      <td>Male</td>\n",
       "      <td>Yes</td>\n",
       "      <td>1</td>\n",
       "      <td>Graduate</td>\n",
       "      <td>No</td>\n",
       "      <td>4583</td>\n",
       "      <td>1508.000000</td>\n",
       "      <td>128.000000</td>\n",
       "      <td>360.0</td>\n",
       "      <td>1.0</td>\n",
       "      <td>Rural</td>\n",
       "      <td>N</td>\n",
       "    </tr>\n",
       "    <tr>\n",
       "      <th>2</th>\n",
       "      <td>2</td>\n",
       "      <td>LP001005</td>\n",
       "      <td>Male</td>\n",
       "      <td>Yes</td>\n",
       "      <td>0</td>\n",
       "      <td>Graduate</td>\n",
       "      <td>Yes</td>\n",
       "      <td>3000</td>\n",
       "      <td>1621.245798</td>\n",
       "      <td>66.000000</td>\n",
       "      <td>360.0</td>\n",
       "      <td>1.0</td>\n",
       "      <td>Urban</td>\n",
       "      <td>Y</td>\n",
       "    </tr>\n",
       "    <tr>\n",
       "      <th>3</th>\n",
       "      <td>3</td>\n",
       "      <td>LP001006</td>\n",
       "      <td>Male</td>\n",
       "      <td>Yes</td>\n",
       "      <td>0</td>\n",
       "      <td>Not Graduate</td>\n",
       "      <td>No</td>\n",
       "      <td>2583</td>\n",
       "      <td>2358.000000</td>\n",
       "      <td>120.000000</td>\n",
       "      <td>360.0</td>\n",
       "      <td>1.0</td>\n",
       "      <td>Urban</td>\n",
       "      <td>Y</td>\n",
       "    </tr>\n",
       "    <tr>\n",
       "      <th>4</th>\n",
       "      <td>4</td>\n",
       "      <td>LP001008</td>\n",
       "      <td>Male</td>\n",
       "      <td>No</td>\n",
       "      <td>0</td>\n",
       "      <td>Graduate</td>\n",
       "      <td>No</td>\n",
       "      <td>6000</td>\n",
       "      <td>1621.245798</td>\n",
       "      <td>141.000000</td>\n",
       "      <td>360.0</td>\n",
       "      <td>1.0</td>\n",
       "      <td>Urban</td>\n",
       "      <td>Y</td>\n",
       "    </tr>\n",
       "    <tr>\n",
       "      <th>...</th>\n",
       "      <td>...</td>\n",
       "      <td>...</td>\n",
       "      <td>...</td>\n",
       "      <td>...</td>\n",
       "      <td>...</td>\n",
       "      <td>...</td>\n",
       "      <td>...</td>\n",
       "      <td>...</td>\n",
       "      <td>...</td>\n",
       "      <td>...</td>\n",
       "      <td>...</td>\n",
       "      <td>...</td>\n",
       "      <td>...</td>\n",
       "      <td>...</td>\n",
       "    </tr>\n",
       "    <tr>\n",
       "      <th>596</th>\n",
       "      <td>609</td>\n",
       "      <td>LP002978</td>\n",
       "      <td>Female</td>\n",
       "      <td>No</td>\n",
       "      <td>0</td>\n",
       "      <td>Graduate</td>\n",
       "      <td>No</td>\n",
       "      <td>2900</td>\n",
       "      <td>1621.245798</td>\n",
       "      <td>71.000000</td>\n",
       "      <td>360.0</td>\n",
       "      <td>1.0</td>\n",
       "      <td>Rural</td>\n",
       "      <td>Y</td>\n",
       "    </tr>\n",
       "    <tr>\n",
       "      <th>597</th>\n",
       "      <td>610</td>\n",
       "      <td>LP002979</td>\n",
       "      <td>Male</td>\n",
       "      <td>Yes</td>\n",
       "      <td>3+</td>\n",
       "      <td>Graduate</td>\n",
       "      <td>No</td>\n",
       "      <td>4106</td>\n",
       "      <td>1621.245798</td>\n",
       "      <td>40.000000</td>\n",
       "      <td>180.0</td>\n",
       "      <td>1.0</td>\n",
       "      <td>Rural</td>\n",
       "      <td>Y</td>\n",
       "    </tr>\n",
       "    <tr>\n",
       "      <th>598</th>\n",
       "      <td>611</td>\n",
       "      <td>LP002983</td>\n",
       "      <td>Male</td>\n",
       "      <td>Yes</td>\n",
       "      <td>1</td>\n",
       "      <td>Graduate</td>\n",
       "      <td>No</td>\n",
       "      <td>8072</td>\n",
       "      <td>240.000000</td>\n",
       "      <td>253.000000</td>\n",
       "      <td>360.0</td>\n",
       "      <td>1.0</td>\n",
       "      <td>Urban</td>\n",
       "      <td>Y</td>\n",
       "    </tr>\n",
       "    <tr>\n",
       "      <th>599</th>\n",
       "      <td>612</td>\n",
       "      <td>LP002984</td>\n",
       "      <td>Male</td>\n",
       "      <td>Yes</td>\n",
       "      <td>2</td>\n",
       "      <td>Graduate</td>\n",
       "      <td>No</td>\n",
       "      <td>7583</td>\n",
       "      <td>1621.245798</td>\n",
       "      <td>187.000000</td>\n",
       "      <td>360.0</td>\n",
       "      <td>1.0</td>\n",
       "      <td>Urban</td>\n",
       "      <td>Y</td>\n",
       "    </tr>\n",
       "    <tr>\n",
       "      <th>600</th>\n",
       "      <td>613</td>\n",
       "      <td>LP002990</td>\n",
       "      <td>Female</td>\n",
       "      <td>No</td>\n",
       "      <td>0</td>\n",
       "      <td>Graduate</td>\n",
       "      <td>Yes</td>\n",
       "      <td>4583</td>\n",
       "      <td>1621.245798</td>\n",
       "      <td>133.000000</td>\n",
       "      <td>360.0</td>\n",
       "      <td>0.0</td>\n",
       "      <td>Semiurban</td>\n",
       "      <td>N</td>\n",
       "    </tr>\n",
       "  </tbody>\n",
       "</table>\n",
       "<p>601 rows × 14 columns</p>\n",
       "</div>"
      ],
      "text/plain": [
       "     index   Loan_ID  Gender Married Dependents     Education Self_Employed  \\\n",
       "0        0  LP001002    Male      No          0      Graduate            No   \n",
       "1        1  LP001003    Male     Yes          1      Graduate            No   \n",
       "2        2  LP001005    Male     Yes          0      Graduate           Yes   \n",
       "3        3  LP001006    Male     Yes          0  Not Graduate            No   \n",
       "4        4  LP001008    Male      No          0      Graduate            No   \n",
       "..     ...       ...     ...     ...        ...           ...           ...   \n",
       "596    609  LP002978  Female      No          0      Graduate            No   \n",
       "597    610  LP002979    Male     Yes         3+      Graduate            No   \n",
       "598    611  LP002983    Male     Yes          1      Graduate            No   \n",
       "599    612  LP002984    Male     Yes          2      Graduate            No   \n",
       "600    613  LP002990  Female      No          0      Graduate           Yes   \n",
       "\n",
       "     ApplicantIncome  CoapplicantIncome  LoanAmount  Loan_Amount_Term  \\\n",
       "0               5849        1621.245798  146.412162             360.0   \n",
       "1               4583        1508.000000  128.000000             360.0   \n",
       "2               3000        1621.245798   66.000000             360.0   \n",
       "3               2583        2358.000000  120.000000             360.0   \n",
       "4               6000        1621.245798  141.000000             360.0   \n",
       "..               ...                ...         ...               ...   \n",
       "596             2900        1621.245798   71.000000             360.0   \n",
       "597             4106        1621.245798   40.000000             180.0   \n",
       "598             8072         240.000000  253.000000             360.0   \n",
       "599             7583        1621.245798  187.000000             360.0   \n",
       "600             4583        1621.245798  133.000000             360.0   \n",
       "\n",
       "     Credit_History Property_Area Loan_Status  \n",
       "0               1.0         Urban           Y  \n",
       "1               1.0         Rural           N  \n",
       "2               1.0         Urban           Y  \n",
       "3               1.0         Urban           Y  \n",
       "4               1.0         Urban           Y  \n",
       "..              ...           ...         ...  \n",
       "596             1.0         Rural           Y  \n",
       "597             1.0         Rural           Y  \n",
       "598             1.0         Urban           Y  \n",
       "599             1.0         Urban           Y  \n",
       "600             0.0     Semiurban           N  \n",
       "\n",
       "[601 rows x 14 columns]"
      ]
     },
     "execution_count": 14,
     "metadata": {},
     "output_type": "execute_result"
    }
   ],
   "source": [
    "df.reset_index()"
   ]
  },
  {
   "cell_type": "code",
   "execution_count": 15,
   "id": "53a141ac",
   "metadata": {},
   "outputs": [],
   "source": [
    "# dropping unnecessary columns\n",
    "df.drop(columns=['Loan_ID','Dependents'],axis=1,inplace=True)"
   ]
  },
  {
   "cell_type": "markdown",
   "id": "9833183a",
   "metadata": {},
   "source": [
    "### Label encoding"
   ]
  },
  {
   "cell_type": "code",
   "execution_count": 16,
   "id": "37c55d33",
   "metadata": {},
   "outputs": [],
   "source": [
    "from sklearn.preprocessing import LabelEncoder\n",
    "le=LabelEncoder()"
   ]
  },
  {
   "cell_type": "code",
   "execution_count": 17,
   "id": "92f2e90c",
   "metadata": {},
   "outputs": [],
   "source": [
    "df['Gender']=le.fit_transform(df['Gender'])"
   ]
  },
  {
   "cell_type": "code",
   "execution_count": 18,
   "id": "7223614e",
   "metadata": {},
   "outputs": [],
   "source": [
    "df['Married']=le.fit_transform(df['Married'])"
   ]
  },
  {
   "cell_type": "code",
   "execution_count": 19,
   "id": "05f9d4c7",
   "metadata": {},
   "outputs": [],
   "source": [
    "df['Education']=le.fit_transform(df['Education'])"
   ]
  },
  {
   "cell_type": "code",
   "execution_count": 20,
   "id": "09a2320d",
   "metadata": {},
   "outputs": [],
   "source": [
    "df['Self_Employed']=le.fit_transform(df['Self_Employed'])"
   ]
  },
  {
   "cell_type": "code",
   "execution_count": 21,
   "id": "cf44daac",
   "metadata": {},
   "outputs": [],
   "source": [
    "df['Property_Area']=le.fit_transform(df['Property_Area'])"
   ]
  },
  {
   "cell_type": "code",
   "execution_count": 22,
   "id": "a869efd4",
   "metadata": {},
   "outputs": [],
   "source": [
    "df['Loan_Status']=le.fit_transform(df['Loan_Status'])"
   ]
  },
  {
   "cell_type": "markdown",
   "id": "fbae119b",
   "metadata": {},
   "source": [
    "### Inbalance checking for target variable"
   ]
  },
  {
   "cell_type": "code",
   "execution_count": 23,
   "id": "95ffbaed",
   "metadata": {},
   "outputs": [
    {
     "name": "stdout",
     "output_type": "stream",
     "text": [
      "Class 0: 187\n",
      "Class 1: 414\n",
      "Proportion: 0.45 :1\n"
     ]
    },
    {
     "data": {
      "text/plain": [
       "<AxesSubplot:title={'center':'taget (count)'}>"
      ]
     },
     "execution_count": 23,
     "metadata": {},
     "output_type": "execute_result"
    },
    {
     "data": {
      "image/png": "[encoded data removed]",
      "text/plain": [
       "<Figure size 432x288 with 1 Axes>"
      ]
     },
     "metadata": {
      "needs_background": "light"
     },
     "output_type": "display_data"
    }
   ],
   "source": [
    "# Checking target variable for inbalance\n",
    "label_count=df['Loan_Status'].value_counts()\n",
    "print(\"Class 0:\",label_count[0])\n",
    "print(\"Class 1:\",label_count[1])\n",
    "print('Proportion:', round(label_count[0]/label_count[1],2),':1')\n",
    "label_count.plot(kind='bar', title='taget (count)')"
   ]
  },
  {
   "cell_type": "markdown",
   "id": "333d2299",
   "metadata": {},
   "source": [
    "From above we can see that target is inbalanced so we have balance it using sampling techniques."
   ]
  },
  {
   "cell_type": "markdown",
   "id": "5f492e6e",
   "metadata": {},
   "source": [
    "### Data Distribution"
   ]
  },
  {
   "cell_type": "code",
   "execution_count": 24,
   "id": "bf18f9a4",
   "metadata": {},
   "outputs": [
    {
     "data": {
      "image/png": "[encoded data removed]",
      "text/plain": [
       "<Figure size 720x576 with 1 Axes>"
      ]
     },
     "metadata": {
      "needs_background": "light"
     },
     "output_type": "display_data"
    }
   ],
   "source": [
    "plt.figure(figsize=(10,8))\n",
    "ax=sns.distplot(df['ApplicantIncome'],kde=True,hist=True)"
   ]
  },
  {
   "cell_type": "code",
   "execution_count": 25,
   "id": "864ef610",
   "metadata": {},
   "outputs": [
    {
     "data": {
      "image/png": "[encoded data removed]",
      "text/plain": [
       "<Figure size 720x576 with 1 Axes>"
      ]
     },
     "metadata": {
      "needs_background": "light"
     },
     "output_type": "display_data"
    }
   ],
   "source": [
    "plt.figure(figsize=(10,8))\n",
    "ax=sns.distplot(df['CoapplicantIncome'],kde=True,hist=True)"
   ]
  },
  {
   "cell_type": "code",
   "execution_count": 26,
   "id": "fd774b0f",
   "metadata": {},
   "outputs": [
    {
     "data": {
      "image/png": "[encoded data removed]",
      "text/plain": [
       "<Figure size 720x576 with 1 Axes>"
      ]
     },
     "metadata": {
      "needs_background": "light"
     },
     "output_type": "display_data"
    }
   ],
   "source": [
    "plt.figure(figsize=(10,8))\n",
    "ax=sns.distplot(df['LoanAmount'],kde=True,hist=True)"
   ]
  },
  {
   "cell_type": "code",
   "execution_count": 27,
   "id": "063fab6f",
   "metadata": {},
   "outputs": [
    {
     "data": {
      "image/png": "[encoded data removed]",
      "text/plain": [
       "<Figure size 720x576 with 1 Axes>"
      ]
     },
     "metadata": {
      "needs_background": "light"
     },
     "output_type": "display_data"
    }
   ],
   "source": [
    "plt.figure(figsize=(10,8))\n",
    "ax=sns.distplot(df['Loan_Amount_Term'],kde=True,hist=True)"
   ]
  },
  {
   "cell_type": "markdown",
   "id": "53de7074",
   "metadata": {},
   "source": [
    "from above distributions we can see that there is a skewness in  data so have remove it."
   ]
  },
  {
   "cell_type": "markdown",
   "id": "68644e56",
   "metadata": {},
   "source": [
    "### Checking skewness"
   ]
  },
  {
   "cell_type": "code",
   "execution_count": 28,
   "id": "ad923784",
   "metadata": {},
   "outputs": [
    {
     "data": {
      "text/plain": [
       "CoapplicantIncome    9.623635\n",
       "ApplicantIncome      6.956995\n",
       "LoanAmount           2.579820\n",
       "Self_Employed        2.208757\n",
       "Education            1.346115\n",
       "Property_Area       -0.070707\n",
       "Married             -0.633237\n",
       "Loan_Status         -0.817883\n",
       "Gender              -1.614968\n",
       "Credit_History      -2.043575\n",
       "Loan_Amount_Term    -2.383253\n",
       "dtype: float64"
      ]
     },
     "execution_count": 28,
     "metadata": {},
     "output_type": "execute_result"
    }
   ],
   "source": [
    "df.skew().sort_values(ascending=False)"
   ]
  },
  {
   "cell_type": "code",
   "execution_count": 29,
   "id": "b1905b3d",
   "metadata": {},
   "outputs": [],
   "source": [
    "# power transform function to remove skewness\n",
    "from sklearn.preprocessing import power_transform\n",
    "x_new=power_transform(df)\n",
    "x=pd.DataFrame(x_new,columns=df.columns)"
   ]
  },
  {
   "cell_type": "code",
   "execution_count": 30,
   "id": "39a405ec",
   "metadata": {},
   "outputs": [],
   "source": [
    "# Validating the skewness\n",
    "sk=df.skew()"
   ]
  },
  {
   "cell_type": "code",
   "execution_count": 31,
   "id": "91e189a2",
   "metadata": {},
   "outputs": [
    {
     "data": {
      "text/plain": [
       "True"
      ]
     },
     "execution_count": 31,
     "metadata": {},
     "output_type": "execute_result"
    }
   ],
   "source": [
    "sk[np.abs(sk)>0.6].all()"
   ]
  },
  {
   "cell_type": "markdown",
   "id": "53fb9cf1",
   "metadata": {},
   "source": [
    "From above we can see that skewness is removed."
   ]
  },
  {
   "cell_type": "code",
   "execution_count": 32,
   "id": "60cb269b",
   "metadata": {},
   "outputs": [
    {
     "data": {
      "image/png": "[encoded data removed]",
      "text/plain": [
       "<Figure size 720x576 with 1 Axes>"
      ]
     },
     "metadata": {
      "needs_background": "light"
     },
     "output_type": "display_data"
    }
   ],
   "source": [
    "# Checking data distribution\n",
    "plt.figure(figsize=(10,8))\n",
    "ax=sns.distplot(df['ApplicantIncome'],kde=True,hist=True)"
   ]
  },
  {
   "cell_type": "code",
   "execution_count": 33,
   "id": "96b86dd1",
   "metadata": {},
   "outputs": [
    {
     "data": {
      "image/png": "[encoded data removed]",
      "text/plain": [
       "<Figure size 720x576 with 1 Axes>"
      ]
     },
     "metadata": {
      "needs_background": "light"
     },
     "output_type": "display_data"
    }
   ],
   "source": [
    "plt.figure(figsize=(10,8))\n",
    "ax=sns.distplot(df['CoapplicantIncome'],kde=True,hist=True)"
   ]
  },
  {
   "cell_type": "code",
   "execution_count": 34,
   "id": "bde67fce",
   "metadata": {},
   "outputs": [
    {
     "data": {
      "image/png": "[encoded data removed]",
      "text/plain": [
       "<Figure size 720x576 with 1 Axes>"
      ]
     },
     "metadata": {
      "needs_background": "light"
     },
     "output_type": "display_data"
    }
   ],
   "source": [
    "plt.figure(figsize=(10,8))\n",
    "ax=sns.distplot(df['LoanAmount'],kde=True,hist=True)"
   ]
  },
  {
   "cell_type": "code",
   "execution_count": 35,
   "id": "5b9cb85a",
   "metadata": {},
   "outputs": [
    {
     "data": {
      "image/png": "[encoded data removed]",
      "text/plain": [
       "<Figure size 720x576 with 1 Axes>"
      ]
     },
     "metadata": {
      "needs_background": "light"
     },
     "output_type": "display_data"
    }
   ],
   "source": [
    "plt.figure(figsize=(10,8))\n",
    "ax=sns.distplot(df['Loan_Amount_Term'],kde=True,hist=True)"
   ]
  },
  {
   "cell_type": "markdown",
   "id": "1ed451cc",
   "metadata": {},
   "source": [
    "### Checking outlier"
   ]
  },
  {
   "cell_type": "code",
   "execution_count": 36,
   "id": "55b9f729",
   "metadata": {},
   "outputs": [
    {
     "data": {
      "text/plain": [
       "<AxesSubplot:>"
      ]
     },
     "execution_count": 36,
     "metadata": {},
     "output_type": "execute_result"
    },
    {
     "data": {
      "image/png": "[encoded data removed]",
      "text/plain": [
       "<Figure size 1008x720 with 1 Axes>"
      ]
     },
     "metadata": {
      "needs_background": "light"
     },
     "output_type": "display_data"
    }
   ],
   "source": [
    "plt.figure(figsize=(14,10))\n",
    "df.boxplot()"
   ]
  },
  {
   "cell_type": "markdown",
   "id": "405f3a0f",
   "metadata": {},
   "source": [
    "from above distribution we can see that outliers in data set."
   ]
  },
  {
   "cell_type": "code",
   "execution_count": 37,
   "id": "e4076706",
   "metadata": {},
   "outputs": [
    {
     "data": {
      "text/plain": [
       "(601, 11)"
      ]
     },
     "execution_count": 37,
     "metadata": {},
     "output_type": "execute_result"
    }
   ],
   "source": [
    "# quantify the outliers\n",
    "from scipy.stats import zscore\n",
    "z=np.abs(zscore(df))\n",
    "z.shape"
   ]
  },
  {
   "cell_type": "code",
   "execution_count": 38,
   "id": "b85ec8e0",
   "metadata": {},
   "outputs": [
    {
     "name": "stdout",
     "output_type": "stream",
     "text": [
      "(array([  0,   0,   0, ..., 600, 600, 600], dtype=int64), array([ 0,  1,  2, ...,  8,  9, 10], dtype=int64))\n",
      "(601, 11)\n",
      "(566, 11)\n"
     ]
    }
   ],
   "source": [
    "Threshold=3\n",
    "print(np.where(z<3))\n",
    "df_new=df[(z<3).all(axis=1)]\n",
    "print(df.shape)\n",
    "print(df_new.shape)"
   ]
  },
  {
   "cell_type": "markdown",
   "id": "7d0b5a72",
   "metadata": {},
   "source": [
    "### Data loss"
   ]
  },
  {
   "cell_type": "code",
   "execution_count": 39,
   "id": "569ca3fb",
   "metadata": {},
   "outputs": [
    {
     "data": {
      "text/plain": [
       "5.823627287853577"
      ]
     },
     "execution_count": 39,
     "metadata": {},
     "output_type": "execute_result"
    }
   ],
   "source": [
    "Loss_percentage=((601-566)/601)*100\n",
    "Loss_percentage"
   ]
  },
  {
   "cell_type": "markdown",
   "id": "e50d19ac",
   "metadata": {},
   "source": [
    "we can see that data loss is in range and we can afoord that much of data loss."
   ]
  },
  {
   "cell_type": "code",
   "execution_count": 40,
   "id": "d0b7113c",
   "metadata": {},
   "outputs": [
    {
     "data": {
      "text/plain": [
       "<AxesSubplot:>"
      ]
     },
     "execution_count": 40,
     "metadata": {},
     "output_type": "execute_result"
    },
    {
     "data": {
      "image/png": "[encoded data removed]",
      "text/plain": [
       "<Figure size 1008x720 with 1 Axes>"
      ]
     },
     "metadata": {
      "needs_background": "light"
     },
     "output_type": "display_data"
    }
   ],
   "source": [
    "plt.figure(figsize=(14,10))\n",
    "df.boxplot()"
   ]
  },
  {
   "cell_type": "markdown",
   "id": "7a00dca5",
   "metadata": {},
   "source": [
    "### Correlation using heatmap"
   ]
  },
  {
   "cell_type": "code",
   "execution_count": 41,
   "id": "c3ebd67b",
   "metadata": {},
   "outputs": [
    {
     "data": {
      "text/html": [
       "<div>\n",
       "<style scoped>\n",
       "    .dataframe tbody tr th:only-of-type {\n",
       "        vertical-align: middle;\n",
       "    }\n",
       "\n",
       "    .dataframe tbody tr th {\n",
       "        vertical-align: top;\n",
       "    }\n",
       "\n",
       "    .dataframe thead th {\n",
       "        text-align: right;\n",
       "    }\n",
       "</style>\n",
       "<table border=\"1\" class=\"dataframe\">\n",
       "  <thead>\n",
       "    <tr style=\"text-align: right;\">\n",
       "      <th></th>\n",
       "      <th>Gender</th>\n",
       "      <th>Married</th>\n",
       "      <th>Education</th>\n",
       "      <th>Self_Employed</th>\n",
       "      <th>ApplicantIncome</th>\n",
       "      <th>CoapplicantIncome</th>\n",
       "      <th>LoanAmount</th>\n",
       "      <th>Loan_Amount_Term</th>\n",
       "      <th>Credit_History</th>\n",
       "      <th>Property_Area</th>\n",
       "      <th>Loan_Status</th>\n",
       "    </tr>\n",
       "  </thead>\n",
       "  <tbody>\n",
       "    <tr>\n",
       "      <th>Gender</th>\n",
       "      <td>1.000000</td>\n",
       "      <td>0.366241</td>\n",
       "      <td>0.049258</td>\n",
       "      <td>-0.005903</td>\n",
       "      <td>0.053989</td>\n",
       "      <td>0.024762</td>\n",
       "      <td>0.105462</td>\n",
       "      <td>-0.074134</td>\n",
       "      <td>0.011878</td>\n",
       "      <td>-0.024556</td>\n",
       "      <td>0.019857</td>\n",
       "    </tr>\n",
       "    <tr>\n",
       "      <th>Married</th>\n",
       "      <td>0.366241</td>\n",
       "      <td>1.000000</td>\n",
       "      <td>0.012379</td>\n",
       "      <td>0.002644</td>\n",
       "      <td>0.042982</td>\n",
       "      <td>-0.019783</td>\n",
       "      <td>0.145310</td>\n",
       "      <td>-0.099385</td>\n",
       "      <td>0.019435</td>\n",
       "      <td>0.010569</td>\n",
       "      <td>0.095423</td>\n",
       "    </tr>\n",
       "    <tr>\n",
       "      <th>Education</th>\n",
       "      <td>0.049258</td>\n",
       "      <td>0.012379</td>\n",
       "      <td>1.000000</td>\n",
       "      <td>-0.003116</td>\n",
       "      <td>-0.139584</td>\n",
       "      <td>-0.088616</td>\n",
       "      <td>-0.165496</td>\n",
       "      <td>-0.079370</td>\n",
       "      <td>-0.068317</td>\n",
       "      <td>-0.062634</td>\n",
       "      <td>-0.083264</td>\n",
       "    </tr>\n",
       "    <tr>\n",
       "      <th>Self_Employed</th>\n",
       "      <td>-0.005903</td>\n",
       "      <td>0.002644</td>\n",
       "      <td>-0.003116</td>\n",
       "      <td>1.000000</td>\n",
       "      <td>0.145441</td>\n",
       "      <td>0.006700</td>\n",
       "      <td>0.116785</td>\n",
       "      <td>-0.026728</td>\n",
       "      <td>-0.011857</td>\n",
       "      <td>-0.032143</td>\n",
       "      <td>-0.018506</td>\n",
       "    </tr>\n",
       "    <tr>\n",
       "      <th>ApplicantIncome</th>\n",
       "      <td>0.053989</td>\n",
       "      <td>0.042982</td>\n",
       "      <td>-0.139584</td>\n",
       "      <td>0.145441</td>\n",
       "      <td>1.000000</td>\n",
       "      <td>-0.046077</td>\n",
       "      <td>0.524232</td>\n",
       "      <td>-0.037711</td>\n",
       "      <td>-0.033326</td>\n",
       "      <td>-0.023967</td>\n",
       "      <td>-0.024674</td>\n",
       "    </tr>\n",
       "    <tr>\n",
       "      <th>CoapplicantIncome</th>\n",
       "      <td>0.024762</td>\n",
       "      <td>-0.019783</td>\n",
       "      <td>-0.088616</td>\n",
       "      <td>0.006700</td>\n",
       "      <td>-0.046077</td>\n",
       "      <td>1.000000</td>\n",
       "      <td>0.219434</td>\n",
       "      <td>-0.074817</td>\n",
       "      <td>0.007071</td>\n",
       "      <td>0.030982</td>\n",
       "      <td>-0.092792</td>\n",
       "    </tr>\n",
       "    <tr>\n",
       "      <th>LoanAmount</th>\n",
       "      <td>0.105462</td>\n",
       "      <td>0.145310</td>\n",
       "      <td>-0.165496</td>\n",
       "      <td>0.116785</td>\n",
       "      <td>0.524232</td>\n",
       "      <td>0.219434</td>\n",
       "      <td>1.000000</td>\n",
       "      <td>0.048907</td>\n",
       "      <td>-0.011782</td>\n",
       "      <td>-0.054763</td>\n",
       "      <td>-0.054097</td>\n",
       "    </tr>\n",
       "    <tr>\n",
       "      <th>Loan_Amount_Term</th>\n",
       "      <td>-0.074134</td>\n",
       "      <td>-0.099385</td>\n",
       "      <td>-0.079370</td>\n",
       "      <td>-0.026728</td>\n",
       "      <td>-0.037711</td>\n",
       "      <td>-0.074817</td>\n",
       "      <td>0.048907</td>\n",
       "      <td>1.000000</td>\n",
       "      <td>0.004476</td>\n",
       "      <td>-0.070421</td>\n",
       "      <td>-0.016251</td>\n",
       "    </tr>\n",
       "    <tr>\n",
       "      <th>Credit_History</th>\n",
       "      <td>0.011878</td>\n",
       "      <td>0.019435</td>\n",
       "      <td>-0.068317</td>\n",
       "      <td>-0.011857</td>\n",
       "      <td>-0.033326</td>\n",
       "      <td>0.007071</td>\n",
       "      <td>-0.011782</td>\n",
       "      <td>0.004476</td>\n",
       "      <td>1.000000</td>\n",
       "      <td>-0.003412</td>\n",
       "      <td>0.536185</td>\n",
       "    </tr>\n",
       "    <tr>\n",
       "      <th>Property_Area</th>\n",
       "      <td>-0.024556</td>\n",
       "      <td>0.010569</td>\n",
       "      <td>-0.062634</td>\n",
       "      <td>-0.032143</td>\n",
       "      <td>-0.023967</td>\n",
       "      <td>0.030982</td>\n",
       "      <td>-0.054763</td>\n",
       "      <td>-0.070421</td>\n",
       "      <td>-0.003412</td>\n",
       "      <td>1.000000</td>\n",
       "      <td>0.029504</td>\n",
       "    </tr>\n",
       "    <tr>\n",
       "      <th>Loan_Status</th>\n",
       "      <td>0.019857</td>\n",
       "      <td>0.095423</td>\n",
       "      <td>-0.083264</td>\n",
       "      <td>-0.018506</td>\n",
       "      <td>-0.024674</td>\n",
       "      <td>-0.092792</td>\n",
       "      <td>-0.054097</td>\n",
       "      <td>-0.016251</td>\n",
       "      <td>0.536185</td>\n",
       "      <td>0.029504</td>\n",
       "      <td>1.000000</td>\n",
       "    </tr>\n",
       "  </tbody>\n",
       "</table>\n",
       "</div>"
      ],
      "text/plain": [
       "                     Gender   Married  Education  Self_Employed  \\\n",
       "Gender             1.000000  0.366241   0.049258      -0.005903   \n",
       "Married            0.366241  1.000000   0.012379       0.002644   \n",
       "Education          0.049258  0.012379   1.000000      -0.003116   \n",
       "Self_Employed     -0.005903  0.002644  -0.003116       1.000000   \n",
       "ApplicantIncome    0.053989  0.042982  -0.139584       0.145441   \n",
       "CoapplicantIncome  0.024762 -0.019783  -0.088616       0.006700   \n",
       "LoanAmount         0.105462  0.145310  -0.165496       0.116785   \n",
       "Loan_Amount_Term  -0.074134 -0.099385  -0.079370      -0.026728   \n",
       "Credit_History     0.011878  0.019435  -0.068317      -0.011857   \n",
       "Property_Area     -0.024556  0.010569  -0.062634      -0.032143   \n",
       "Loan_Status        0.019857  0.095423  -0.083264      -0.018506   \n",
       "\n",
       "                   ApplicantIncome  CoapplicantIncome  LoanAmount  \\\n",
       "Gender                    0.053989           0.024762    0.105462   \n",
       "Married                   0.042982          -0.019783    0.145310   \n",
       "Education                -0.139584          -0.088616   -0.165496   \n",
       "Self_Employed             0.145441           0.006700    0.116785   \n",
       "ApplicantIncome           1.000000          -0.046077    0.524232   \n",
       "CoapplicantIncome        -0.046077           1.000000    0.219434   \n",
       "LoanAmount                0.524232           0.219434    1.000000   \n",
       "Loan_Amount_Term         -0.037711          -0.074817    0.048907   \n",
       "Credit_History           -0.033326           0.007071   -0.011782   \n",
       "Property_Area            -0.023967           0.030982   -0.054763   \n",
       "Loan_Status              -0.024674          -0.092792   -0.054097   \n",
       "\n",
       "                   Loan_Amount_Term  Credit_History  Property_Area  \\\n",
       "Gender                    -0.074134        0.011878      -0.024556   \n",
       "Married                   -0.099385        0.019435       0.010569   \n",
       "Education                 -0.079370       -0.068317      -0.062634   \n",
       "Self_Employed             -0.026728       -0.011857      -0.032143   \n",
       "ApplicantIncome           -0.037711       -0.033326      -0.023967   \n",
       "CoapplicantIncome         -0.074817        0.007071       0.030982   \n",
       "LoanAmount                 0.048907       -0.011782      -0.054763   \n",
       "Loan_Amount_Term           1.000000        0.004476      -0.070421   \n",
       "Credit_History             0.004476        1.000000      -0.003412   \n",
       "Property_Area             -0.070421       -0.003412       1.000000   \n",
       "Loan_Status               -0.016251        0.536185       0.029504   \n",
       "\n",
       "                   Loan_Status  \n",
       "Gender                0.019857  \n",
       "Married               0.095423  \n",
       "Education            -0.083264  \n",
       "Self_Employed        -0.018506  \n",
       "ApplicantIncome      -0.024674  \n",
       "CoapplicantIncome    -0.092792  \n",
       "LoanAmount           -0.054097  \n",
       "Loan_Amount_Term     -0.016251  \n",
       "Credit_History        0.536185  \n",
       "Property_Area         0.029504  \n",
       "Loan_Status           1.000000  "
      ]
     },
     "execution_count": 41,
     "metadata": {},
     "output_type": "execute_result"
    }
   ],
   "source": [
    "df.corr()"
   ]
  },
  {
   "cell_type": "code",
   "execution_count": 42,
   "id": "369b844f",
   "metadata": {},
   "outputs": [
    {
     "data": {
      "text/plain": [
       "<AxesSubplot:>"
      ]
     },
     "execution_count": 42,
     "metadata": {},
     "output_type": "execute_result"
    },
    {
     "data": {
      "image/png": "[encoded data removed]",
      "text/plain": [
       "<Figure size 1152x864 with 2 Axes>"
      ]
     },
     "metadata": {
      "needs_background": "light"
     },
     "output_type": "display_data"
    }
   ],
   "source": [
    "plt.figure(figsize=(16,12))\n",
    "sns.heatmap(df.corr(),annot=True)"
   ]
  },
  {
   "cell_type": "code",
   "execution_count": 43,
   "id": "3d7c395b",
   "metadata": {},
   "outputs": [
    {
     "data": {
      "text/plain": [
       "Loan_Status          1.000000\n",
       "Credit_History       0.536185\n",
       "Married              0.095423\n",
       "Property_Area        0.029504\n",
       "Gender               0.019857\n",
       "Loan_Amount_Term    -0.016251\n",
       "Self_Employed       -0.018506\n",
       "ApplicantIncome     -0.024674\n",
       "LoanAmount          -0.054097\n",
       "Education           -0.083264\n",
       "CoapplicantIncome   -0.092792\n",
       "Name: Loan_Status, dtype: float64"
      ]
     },
     "execution_count": 43,
     "metadata": {},
     "output_type": "execute_result"
    }
   ],
   "source": [
    "# Chacking label correlation with feature\n",
    "df.corr()['Loan_Status'].sort_values(ascending=False)"
   ]
  },
  {
   "cell_type": "markdown",
   "id": "322b0797",
   "metadata": {},
   "source": [
    "### Splitting data into feature and label"
   ]
  },
  {
   "cell_type": "code",
   "execution_count": 44,
   "id": "2ce395e4",
   "metadata": {},
   "outputs": [],
   "source": [
    "x=df.drop(columns=['Loan_Status'], axis=1)\n",
    "y=df['Loan_Status']"
   ]
  },
  {
   "cell_type": "markdown",
   "id": "6c242506",
   "metadata": {},
   "source": [
    "### Data scaling"
   ]
  },
  {
   "cell_type": "code",
   "execution_count": 45,
   "id": "8fa412ad",
   "metadata": {},
   "outputs": [
    {
     "data": {
      "text/plain": [
       "array([[ 0.47858004, -1.36451631, -0.53309289, ...,  0.27845443,\n",
       "         0.40864446,  1.21859656],\n",
       "       [ 0.47858004,  0.73286042, -0.53309289, ...,  0.27845443,\n",
       "         0.40864446, -1.31997027],\n",
       "       [ 0.47858004,  0.73286042, -0.53309289, ...,  0.27845443,\n",
       "         0.40864446,  1.21859656],\n",
       "       ...,\n",
       "       [ 0.47858004,  0.73286042, -0.53309289, ...,  0.27845443,\n",
       "         0.40864446,  1.21859656],\n",
       "       [ 0.47858004,  0.73286042, -0.53309289, ...,  0.27845443,\n",
       "         0.40864446,  1.21859656],\n",
       "       [-2.08951464, -1.36451631, -0.53309289, ...,  0.27845443,\n",
       "        -2.44711506, -0.05068686]])"
      ]
     },
     "execution_count": 45,
     "metadata": {},
     "output_type": "execute_result"
    }
   ],
   "source": [
    "from sklearn.preprocessing import StandardScaler\n",
    "scaler=StandardScaler()\n",
    "x=scaler.fit_transform(x)\n",
    "x"
   ]
  },
  {
   "cell_type": "markdown",
   "id": "fe3ca999",
   "metadata": {},
   "source": [
    "### splitting data in  train test "
   ]
  },
  {
   "cell_type": "code",
   "execution_count": 46,
   "id": "a12dba45",
   "metadata": {},
   "outputs": [],
   "source": [
    "from sklearn.model_selection import train_test_split\n",
    "x_train,x_test,y_train,y_test=train_test_split(x,y,random_state=1245,test_size=0.3)"
   ]
  },
  {
   "cell_type": "code",
   "execution_count": 48,
   "id": "2232f32c",
   "metadata": {},
   "outputs": [],
   "source": [
    "# smote technique\n",
    "from imblearn.over_sampling import SMOTE\n",
    "sm=SMOTE()\n",
    "over_sampling=SMOTE(0.75)"
   ]
  },
  {
   "cell_type": "code",
   "execution_count": 53,
   "id": "ddb1dd02",
   "metadata": {},
   "outputs": [
    {
     "name": "stdout",
     "output_type": "stream",
     "text": [
      "The no. of classes before fitCounter({1: 289, 0: 131})\n",
      "The no. of classes after fitCounter({1: 289, 0: 216})\n"
     ]
    }
   ],
   "source": [
    "from collections import Counter\n",
    "x_train_sm,y_train_sm=over_sampling.fit_resample(x_train,y_train)\n",
    "print(\"The no. of classes before fit{}\".format(Counter(y_train)))\n",
    "print(\"The no. of classes after fit{}\".format(Counter(y_train_ns)))"
   ]
  },
  {
   "cell_type": "markdown",
   "id": "17bac8f8",
   "metadata": {},
   "source": [
    "### Logistic regression"
   ]
  },
  {
   "cell_type": "code",
   "execution_count": 54,
   "id": "096603e8",
   "metadata": {},
   "outputs": [],
   "source": [
    "from sklearn.linear_model import LogisticRegression\n",
    "lr=LogisticRegression()\n",
    "lr.fit(x_train_sm,y_train_sm)\n",
    "predlr=lr.predict(x_test)"
   ]
  },
  {
   "cell_type": "code",
   "execution_count": 65,
   "id": "ab1dbae5",
   "metadata": {},
   "outputs": [
    {
     "name": "stdout",
     "output_type": "stream",
     "text": [
      "Accuracy: 0.7679558011049724\n",
      "classification report:               precision    recall  f1-score   support\n",
      "\n",
      "           0       0.75      0.38      0.50        56\n",
      "           1       0.77      0.94      0.85       125\n",
      "\n",
      "    accuracy                           0.77       181\n",
      "   macro avg       0.76      0.66      0.67       181\n",
      "weighted avg       0.76      0.77      0.74       181\n",
      "\n",
      "confusion matrix: [[ 21  35]\n",
      " [  7 118]]\n"
     ]
    }
   ],
   "source": [
    "from sklearn.metrics import accuracy_score,classification_report,confusion_matrix\n",
    "print(\"Accuracy:\",accuracy_score(y_test,predlr))\n",
    "print(\"classification report:\",classification_report(y_test,predlr))\n",
    "print(\"confusion matrix:\",confusion_matrix(y_test,predlr))"
   ]
  },
  {
   "cell_type": "markdown",
   "id": "dcc1a2f9",
   "metadata": {},
   "source": [
    "### Decision tree classifier"
   ]
  },
  {
   "cell_type": "code",
   "execution_count": 66,
   "id": "32c9fb77",
   "metadata": {},
   "outputs": [
    {
     "name": "stdout",
     "output_type": "stream",
     "text": [
      "Accuracy: 0.6850828729281768\n",
      "classification report:               precision    recall  f1-score   support\n",
      "\n",
      "           0       0.49      0.45      0.47        56\n",
      "           1       0.76      0.79      0.78       125\n",
      "\n",
      "    accuracy                           0.69       181\n",
      "   macro avg       0.63      0.62      0.62       181\n",
      "weighted avg       0.68      0.69      0.68       181\n",
      "\n",
      "confusion matrix: [[25 31]\n",
      " [26 99]]\n"
     ]
    }
   ],
   "source": [
    "from sklearn.tree import DecisionTreeClassifier\n",
    "dt=DecisionTreeClassifier()\n",
    "dt.fit(x_train_sm,y_train_sm)\n",
    "preddt=dt.predict(x_test)\n",
    "print(\"Accuracy:\",accuracy_score(y_test,preddt))\n",
    "print(\"classification report:\",classification_report(y_test,preddt))\n",
    "print(\"confusion matrix:\",confusion_matrix(y_test,preddt))"
   ]
  },
  {
   "cell_type": "markdown",
   "id": "9dd27825",
   "metadata": {},
   "source": [
    "### Random forest classifier "
   ]
  },
  {
   "cell_type": "code",
   "execution_count": 67,
   "id": "fc0e0819",
   "metadata": {},
   "outputs": [
    {
     "name": "stdout",
     "output_type": "stream",
     "text": [
      "Accuracy: 0.712707182320442\n",
      "Classification report:               precision    recall  f1-score   support\n",
      "\n",
      "           0       0.55      0.43      0.48        56\n",
      "           1       0.77      0.84      0.80       125\n",
      "\n",
      "    accuracy                           0.71       181\n",
      "   macro avg       0.66      0.63      0.64       181\n",
      "weighted avg       0.70      0.71      0.70       181\n",
      "\n",
      "confusion matrix: [[ 24  32]\n",
      " [ 20 105]]\n"
     ]
    }
   ],
   "source": [
    "from sklearn.ensemble import RandomForestClassifier\n",
    "rf=RandomForestClassifier()\n",
    "rf.fit(x_train_sm,y_train_sm)\n",
    "predrf=rf.predict(x_test)\n",
    "print(\"Accuracy:\",accuracy_score(y_test,predrf))\n",
    "print(\"Classification report:\",classification_report(y_test,predrf))\n",
    "print(\"confusion matrix:\",confusion_matrix(y_test,predrf))"
   ]
  },
  {
   "cell_type": "markdown",
   "id": "3e96e22d",
   "metadata": {},
   "source": [
    "### KNN "
   ]
  },
  {
   "cell_type": "code",
   "execution_count": 68,
   "id": "bfe8e420",
   "metadata": {},
   "outputs": [
    {
     "name": "stdout",
     "output_type": "stream",
     "text": [
      "Accuracy: 0.6906077348066298\n",
      "confusion matrix: [[ 20  36]\n",
      " [ 20 105]]\n",
      "classification report:               precision    recall  f1-score   support\n",
      "\n",
      "           0       0.50      0.36      0.42        56\n",
      "           1       0.74      0.84      0.79       125\n",
      "\n",
      "    accuracy                           0.69       181\n",
      "   macro avg       0.62      0.60      0.60       181\n",
      "weighted avg       0.67      0.69      0.67       181\n",
      "\n"
     ]
    }
   ],
   "source": [
    "from sklearn.neighbors import KNeighborsClassifier\n",
    "knn=KNeighborsClassifier()\n",
    "knn.fit(x_train_sm,y_train_sm)\n",
    "predknn=knn.predict(x_test)\n",
    "print('Accuracy:',accuracy_score(y_test,predknn))\n",
    "print(\"confusion matrix:\",confusion_matrix(y_test,predknn))\n",
    "print(\"classification report:\",classification_report(y_test,predknn))"
   ]
  },
  {
   "cell_type": "markdown",
   "id": "6fc86e39",
   "metadata": {},
   "source": [
    "### Cross validation for overfitting"
   ]
  },
  {
   "cell_type": "markdown",
   "id": "1686745a",
   "metadata": {},
   "source": [
    "1.Logistic regression"
   ]
  },
  {
   "cell_type": "code",
   "execution_count": 58,
   "id": "c5a7fe37",
   "metadata": {},
   "outputs": [
    {
     "name": "stdout",
     "output_type": "stream",
     "text": [
      "0.8069834710743802\n"
     ]
    }
   ],
   "source": [
    "from sklearn.model_selection import cross_val_score\n",
    "cvs1=cross_val_score(lr,x,y,cv=5)\n",
    "print(cvs1.mean())"
   ]
  },
  {
   "cell_type": "markdown",
   "id": "ae49bb06",
   "metadata": {},
   "source": [
    "2.Decision tree classifier"
   ]
  },
  {
   "cell_type": "code",
   "execution_count": 59,
   "id": "71bedd09",
   "metadata": {},
   "outputs": [
    {
     "name": "stdout",
     "output_type": "stream",
     "text": [
      "0.6988429752066116\n"
     ]
    }
   ],
   "source": [
    "cvs2=cross_val_score(dt,x,y,cv=5)\n",
    "print(cvs2.mean())"
   ]
  },
  {
   "cell_type": "markdown",
   "id": "740aa384",
   "metadata": {},
   "source": [
    "3.Random forest classifier"
   ]
  },
  {
   "cell_type": "code",
   "execution_count": 60,
   "id": "6f2350ae",
   "metadata": {},
   "outputs": [
    {
     "name": "stdout",
     "output_type": "stream",
     "text": [
      "0.7820110192837466\n"
     ]
    }
   ],
   "source": [
    "cvs3=cross_val_score(rf,x,y,cv=5)\n",
    "print(cvs3.mean())"
   ]
  },
  {
   "cell_type": "markdown",
   "id": "bfddd031",
   "metadata": {},
   "source": [
    "4.knn"
   ]
  },
  {
   "cell_type": "code",
   "execution_count": 69,
   "id": "d3b209b7",
   "metadata": {},
   "outputs": [
    {
     "name": "stdout",
     "output_type": "stream",
     "text": [
      "0.7737465564738293\n"
     ]
    }
   ],
   "source": [
    "cvs4=cross_val_score(knn,x,y,cv=5)\n",
    "print(cvs4.mean())"
   ]
  },
  {
   "cell_type": "markdown",
   "id": "d38090b1",
   "metadata": {},
   "source": [
    "from cross validation score we can see that the logistic regression model performing better."
   ]
  },
  {
   "cell_type": "markdown",
   "id": "44ed0158",
   "metadata": {},
   "source": [
    "### Hyper parameter tunning"
   ]
  },
  {
   "cell_type": "code",
   "execution_count": 74,
   "id": "54597faa",
   "metadata": {},
   "outputs": [
    {
     "name": "stdout",
     "output_type": "stream",
     "text": [
      "Tuned Logistic Regression Parameters: {'C': 0.05179474679231213}\n",
      "Best score is 0.8238095238095239\n"
     ]
    }
   ],
   "source": [
    "# Necessary imports\n",
    "from sklearn.linear_model import LogisticRegression\n",
    "from sklearn.model_selection import GridSearchCV\n",
    "# Creating the hyperparameter grid\n",
    "c_space = np.logspace(-5, 8, 15)\n",
    "param_grid = {'C': c_space}\n",
    "  \n",
    "# Instantiating the GridSearchCV object\n",
    "lr_cv = GridSearchCV(lr, param_grid, cv = 5)\n",
    "  \n",
    "lr_cv.fit(x_train, y_train)\n",
    "lr_cv.best_params_\n",
    "lr_cv_pred=lr_cv.best_estimator_.predict(x_test)\n",
    "  \n",
    "# Print the tuned parameters and score\n",
    "print(\"Tuned Logistic Regression Parameters: {}\".format(lr_cv.best_params_)) \n",
    "print(\"Best score is {}\".format(lr_cv.best_score_))"
   ]
  },
  {
   "cell_type": "markdown",
   "id": "76b32fae",
   "metadata": {},
   "source": [
    "### ROC AUC plot"
   ]
  },
  {
   "cell_type": "code",
   "execution_count": 75,
   "id": "44b3f8b3",
   "metadata": {},
   "outputs": [
    {
     "data": {
      "image/png": "[encoded data removed]",
      "text/plain": [
       "<Figure size 432x288 with 1 Axes>"
      ]
     },
     "metadata": {
      "needs_background": "light"
     },
     "output_type": "display_data"
    }
   ],
   "source": [
    "from sklearn.metrics import plot_roc_curve\n",
    "plot_roc_curve(lr_cv.best_estimator_,x_test,y_test)\n",
    "plt.title(\"ROC AUC plot\")\n",
    "plt.show()"
   ]
  },
  {
   "cell_type": "markdown",
   "id": "e5770278",
   "metadata": {},
   "source": [
    "### Saving the model"
   ]
  },
  {
   "cell_type": "code",
   "execution_count": 76,
   "id": "7b8b96e3",
   "metadata": {},
   "outputs": [
    {
     "data": {
      "text/plain": [
       "['Loan prediction model.pkl']"
      ]
     },
     "execution_count": 76,
     "metadata": {},
     "output_type": "execute_result"
    }
   ],
   "source": [
    "import joblib\n",
    "joblib.dump(lr_cv.best_estimator_,'Loan prediction model.pkl')"
   ]
  },
  {
   "cell_type": "code",
   "execution_count": null,
   "id": "eb874686",
   "metadata": {},
   "outputs": [],
   "source": []
  }
 ],
 "metadata": {
  "kernelspec": {
   "display_name": "Python 3",
   "language": "python",
   "name": "python3"
  },
  "language_info": {
   "codemirror_mode": {
    "name": "ipython",
    "version": 3
   },
   "file_extension": ".py",
   "mimetype": "text/x-python",
   "name": "python",
   "nbconvert_exporter": "python",
   "pygments_lexer": "ipython3",
   "version": "3.8.8"
  }
 },
 "nbformat": 4,
 "nbformat_minor": 5
}
